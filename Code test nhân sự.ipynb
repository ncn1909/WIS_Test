{
 "cells": [
  {
   "cell_type": "markdown",
   "id": "6e67084f",
   "metadata": {},
   "source": [
    "### Bài 1: Yêu cầu người dùng cung cấp một chuỗi và cho biết đó có phải một palindrome không (palindrome là một chuỗi có thể được viết xuôi hay viết ngược vẫn chỉ cho ra chính nó)."
   ]
  },
  {
   "cell_type": "code",
   "execution_count": 1,
   "id": "69459f35",
   "metadata": {},
   "outputs": [
    {
     "name": "stdout",
     "output_type": "stream",
     "text": [
      "Enter a string: 12321\n",
      "This string is a palindrome\n"
     ]
    }
   ],
   "source": [
    "string = input(\"Enter a string: \")\n",
    "# Sử dụng list[::-1] để lặp list theo thứ tự ngược lại\n",
    "if(string == string[::-1]):\n",
    "    print(\"This string is a palindrome\")\n",
    "else:\n",
    "    print(\"This string isn't a palidrome\")"
   ]
  },
  {
   "cell_type": "markdown",
   "id": "e4d0baea",
   "metadata": {},
   "source": [
    "### Viết chương trình hỏi người dùng cần tạo bao nhiêu số trong dãy Fibonacci và tạo chúng. Chuỗi Fibonacci là một dãy số trong đó số tiếp theo trong dãy là tổng của hai số trước đó. Ví dụ của một chuỗi Fibonacci như sau: 1, 1, 2, 3, 5, 8, 13,…!"
   ]
  },
  {
   "cell_type": "code",
   "execution_count": 2,
   "id": "bf4bf279",
   "metadata": {},
   "outputs": [
    {
     "name": "stdout",
     "output_type": "stream",
     "text": [
      "Enter the number of terms in fibonacci series: 8\n",
      "0 1 1 2 3 5 8 13 None "
     ]
    }
   ],
   "source": [
    "n = int(input(\"Enter the number of terms in fibonacci series: \"))\n",
    "def fib(n):\n",
    "    f0 = 0\n",
    "    f1 = 1\n",
    "    \n",
    "    if n == 1:\n",
    "        print(f0)\n",
    "    else:\n",
    "        print(f0, end =' ')\n",
    "        print(f1, end =' ')\n",
    "        for i in range(2,n):\n",
    "            f2 = f0 + f1\n",
    "            f0 = f1\n",
    "            f1 = f2\n",
    "            print(f2, end = ' ')\n",
    "print(fib(n), end = ' ')"
   ]
  },
  {
   "cell_type": "markdown",
   "id": "1a39ee10",
   "metadata": {},
   "source": [
    "### Bài 3: Yêu cầu người dùng nhập một số và xác định xem đó có phải là số nguyên tố hay không."
   ]
  },
  {
   "cell_type": "code",
   "execution_count": 3,
   "id": "33ef4f8d",
   "metadata": {},
   "outputs": [
    {
     "name": "stdout",
     "output_type": "stream",
     "text": [
      "7\n",
      "True\n"
     ]
    }
   ],
   "source": [
    "#Hàm xác định số guyên tô\n",
    "def prime(n):\n",
    "    count = 0\n",
    "    for i in range(1, n + 1):\n",
    "        if n % i == 0:\n",
    "            count += 1\n",
    "    if count == 2:\n",
    "        return True\n",
    "    return False\n",
    "\n",
    "n = int(input())\n",
    "print(prime(n))        "
   ]
  },
  {
   "cell_type": "markdown",
   "id": "dc63ca2a",
   "metadata": {},
   "source": [
    "### Bài 4: Viết một chương trình chấp nhận đầu vào là chuỗi các số nhị phân 4 chữ số, phân tách bởi dấu phẩy, kiểm tra xem chúng có chia hết cho 5 không. Sau đó in các số chia hết cho 5 thành dãy phân tách bởi dấu phẩy.!"
   ]
  },
  {
   "cell_type": "code",
   "execution_count": 4,
   "id": "0605920d",
   "metadata": {},
   "outputs": [
    {
     "name": "stdout",
     "output_type": "stream",
     "text": [
      "Enter binary number: 0100,0011,1010,1001\n",
      "1010\n"
     ]
    }
   ],
   "source": [
    "l = []\n",
    "items = [i for i in input(\"Enter binary number: \").split(',')]   # Sử dụng list comprehension\n",
    "for x in items:\n",
    "    intx = int(x, 2)\n",
    "    if not intx %5:\n",
    "        l.append(x)\n",
    "print(\",\".join(l))"
   ]
  },
  {
   "cell_type": "markdown",
   "id": "d826ff2c",
   "metadata": {},
   "source": [
    "### Bài 5 : Định nghĩa hàm có thể chấp nhận input là số nguyên và in \"Đây là một số chẵn\" nếu nó chẵn và in \"Đây là một số lẻ\" nếu là số lẻ.!"
   ]
  },
  {
   "cell_type": "code",
   "execution_count": 5,
   "id": "85013135",
   "metadata": {},
   "outputs": [
    {
     "name": "stdout",
     "output_type": "stream",
     "text": [
      "This is an even number\n",
      "None\n"
     ]
    }
   ],
   "source": [
    "#Hàm có thể chấp nhận input là số nguyên.\n",
    "def checkinterger(n):\n",
    "    #Kiểm tra số chẵn.\n",
    "    if n %2 == 0:\n",
    "        print(\"This is an even number\")\n",
    "    else:\n",
    "        print(\"This is an odd number \")        \n",
    "print(checkinterger(4))\n",
    "\n",
    "#n = int(input(\"Enter a number: \"))\n",
    "#print(checkinterger(n))"
   ]
  },
  {
   "cell_type": "markdown",
   "id": "cf0e675a",
   "metadata": {},
   "source": [
    "### Bài 6: Nhập một số, in ra giai thừa của số đó. Lưu ý: Không sử dụng for trong bài tập này."
   ]
  },
  {
   "cell_type": "code",
   "execution_count": 6,
   "id": "dbbaad7d",
   "metadata": {},
   "outputs": [
    {
     "name": "stdout",
     "output_type": "stream",
     "text": [
      "Enter a number: 3\n",
      "6\n"
     ]
    }
   ],
   "source": [
    "n = int(input(\"Enter a number: \"))\n",
    "def factorial(n):\n",
    "    if n == 0:\n",
    "        return 1\n",
    "    return n * factorial(n - 1) \n",
    "print(factorial(n))"
   ]
  },
  {
   "cell_type": "markdown",
   "id": "e9c44939",
   "metadata": {},
   "source": [
    "### Bài 7: Tạo trò chơi “Cows and Bulls” với cách thức hoạt động như sau:\n",
    "       1.\tTạo ngẫu nhiên một con số có 4 chữ số. Yêu cầu người chơi đoán con số đó.\n",
    "       2.\tKhi người chơi đoán đúng một chữ số nào đó ở đúng vị trí, họ sẽ có một “Cow”. Với mỗi chữ số sai, họ sẽ có một “Bull”.\n",
    "       3.\tMỗi khi người dùng đưa ra phỏng đoán, hãy cho họ biết họ có bao nhiêu “Cows” và “Bulls”. Khi người dùng đoán đúng số, trò chơi kết thúc. Theo dõi số lần đoán mà người dùng thực hiện trong suốt trò chơi và họ biết khi kết thúc.\t\n",
    "    Ví dụ: Giả sử, máy tính tạo ra một con số là 1038. Một tương tác sẽ diễn ra như sau:\n",
    "        Welcome to the Cows and Bulls Game!\n",
    "        Enter a number:\n",
    "        >>> 1234\n",
    "        2 cows, 0 bulls\n",
    "        >>> 1256\n",
    "        1 cow, 1 bull\n",
    "        ...\n"
   ]
  },
  {
   "cell_type": "code",
   "execution_count": null,
   "id": "f9bb4bdd",
   "metadata": {},
   "outputs": [],
   "source": [
    "import random\n",
    "# Tạo một mảng trống và nó sẽ lưu trữ 4 chữ số.\n",
    "number = []\n",
    "attempts = 0\n",
    "#Hàm tạo số ngẫu nhiên.\n",
    "def MakeNumber():\n",
    "    for i in range(4):\n",
    "        x = random.randrange(0,9)\n",
    "        number.append(x)\n",
    "\n",
    "#hàm khởi tạo trò chơi.\n",
    "def Game():\n",
    "    global  attempts\n",
    "    attempts += 1\n",
    "    cows = 0\n",
    "    bulls = 0\n",
    "    choice = input(\"Enter a number: \")\n",
    "    guess = []\n",
    "    for i in range (4):\n",
    "        guess.append(int(choice[i]))\n",
    "    for i in range (4):\n",
    "        for j in range (4):\n",
    "            if (guess[i] == number[j]):\n",
    "                cows += 1\n",
    "    for x in range (4):\n",
    "        if (guess[x] == number[x]):\n",
    "            bulls += 1\n",
    "    print(\"cows:\",cows,\",\", \"bulls: \",bulls)\n",
    "\n",
    "    if (bulls == 4):\n",
    "        print(\"You won after \", attempts, \"attempts!\")\n",
    "    if (bulls != 4):\n",
    "        Game()\n",
    "\n",
    "print(\"Welcome to the Cows and Bulls Game!\")\n",
    "MakeNumber()\n",
    "Game()"
   ]
  },
  {
   "cell_type": "markdown",
   "id": "1888f253",
   "metadata": {},
   "source": [
    "### Bài 8: Viết một chương trình để chuyển đổi số nguyên N sang hệ cơ số B (2 <= B <= 32) bất kỳ.!"
   ]
  },
  {
   "cell_type": "code",
   "execution_count": 7,
   "id": "32096afb",
   "metadata": {},
   "outputs": [
    {
     "name": "stdout",
     "output_type": "stream",
     "text": [
      "Enter a possitive integer: 12\n",
      "Base 2 of interger:  1100\n",
      "Base 16 of integer:  C\n"
     ]
    }
   ],
   "source": [
    "def convert_number(n, b):\n",
    "    if ((n < 0) | (b < 2) | (b > 16)):\n",
    "        return \"\"\n",
    "  \n",
    "    st = \"\"\n",
    "    m = 0\n",
    "    remainder = n\n",
    "  \n",
    "    while (remainder > 0):\n",
    "        if (b > 10):\n",
    "            m = remainder % b\n",
    "            if (m >= 10):\n",
    "                st = st + str(chr(55 + m))\n",
    "            else:\n",
    "                st = st + str(m)\n",
    "        else:\n",
    "            st = st + str(remainder % b)\n",
    "        remainder = int(remainder / b)\n",
    "    return \"\".join(reversed(st))\n",
    "  \n",
    "n = int(input(\"Enter a possitive integer: \"))\n",
    "print(\"Base 2 of interger: \", convert_number(n, 2))\n",
    "print(\"Base 16 of integer: \", convert_number(n, 16))"
   ]
  },
  {
   "cell_type": "code",
   "execution_count": null,
   "id": "ce22fd01",
   "metadata": {},
   "outputs": [],
   "source": []
  }
 ],
 "metadata": {
  "kernelspec": {
   "display_name": "Python 3",
   "language": "python",
   "name": "python3"
  },
  "language_info": {
   "codemirror_mode": {
    "name": "ipython",
    "version": 3
   },
   "file_extension": ".py",
   "mimetype": "text/x-python",
   "name": "python",
   "nbconvert_exporter": "python",
   "pygments_lexer": "ipython3",
   "version": "3.7.10"
  }
 },
 "nbformat": 4,
 "nbformat_minor": 5
}
